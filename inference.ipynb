{
 "cells": [
  {
   "cell_type": "markdown",
   "id": "3f1f0f6a",
   "metadata": {},
   "source": [
    "# Inference Workflow"
   ]
  },
  {
   "cell_type": "markdown",
   "id": "3989944b",
   "metadata": {},
   "source": [
    "### Import Packages"
   ]
  },
  {
   "cell_type": "code",
   "execution_count": 1,
   "id": "851a2613",
   "metadata": {},
   "outputs": [],
   "source": [
    "from gpt2 import GPT2, GPT2Config\n",
    "import tiktoken\n",
    "import torch\n",
    "from torch.nn import functional as F"
   ]
  },
  {
   "cell_type": "markdown",
   "id": "a73e96d0",
   "metadata": {},
   "source": [
    "### Set Device and Args"
   ]
  },
  {
   "cell_type": "code",
   "execution_count": 2,
   "id": "69f9ebdf",
   "metadata": {},
   "outputs": [
    {
     "name": "stdout",
     "output_type": "stream",
     "text": [
      "Using Device: mps\n"
     ]
    }
   ],
   "source": [
    "device = 'cpu'\n",
    "if torch.cuda.is_available():\n",
    "    device = 'cuda'\n",
    "elif hasattr(torch.backends, 'mps') and torch.backends.mps.is_available():\n",
    "    device = 'mps'\n",
    "print(f'Using Device: {device}')\n",
    "\n",
    "num_return_sequences = 5\n",
    "max_length = 30"
   ]
  },
  {
   "cell_type": "markdown",
   "id": "3b886322",
   "metadata": {},
   "source": [
    "### Initialize Model"
   ]
  },
  {
   "cell_type": "code",
   "execution_count": 3,
   "id": "8fdc8943",
   "metadata": {},
   "outputs": [
    {
     "name": "stderr",
     "output_type": "stream",
     "text": [
      "/Users/ashish/Desktop/test/GPT2/.my_venv/lib/python3.12/site-packages/tqdm/auto.py:21: TqdmWarning: IProgress not found. Please update jupyter and ipywidgets. See https://ipywidgets.readthedocs.io/en/stable/user_install.html\n",
      "  from .autonotebook import tqdm as notebook_tqdm\n"
     ]
    },
    {
     "name": "stdout",
     "output_type": "stream",
     "text": [
      "loading weights from pretrained gpt: gpt2\n"
     ]
    },
    {
     "data": {
      "text/plain": [
       "GPT2(\n",
       "  (transformer): ModuleDict(\n",
       "    (wte): Embedding(50257, 768)\n",
       "    (wpe): Embedding(1024, 768)\n",
       "    (h): ModuleList(\n",
       "      (0-11): 12 x Block(\n",
       "        (ln_1): LayerNorm((768,), eps=1e-05, elementwise_affine=True)\n",
       "        (attn): CausalSelfAttention(\n",
       "          (c_attn): Linear(in_features=768, out_features=2304, bias=True)\n",
       "          (c_proj): Linear(in_features=768, out_features=768, bias=True)\n",
       "        )\n",
       "        (ln_2): LayerNorm((768,), eps=1e-05, elementwise_affine=True)\n",
       "        (mlp): MLP(\n",
       "          (c_fc): Linear(in_features=768, out_features=3072, bias=True)\n",
       "          (gelu): GELU(approximate='tanh')\n",
       "          (c_proj): Linear(in_features=3072, out_features=768, bias=True)\n",
       "        )\n",
       "      )\n",
       "    )\n",
       "    (ln_f): LayerNorm((768,), eps=1e-05, elementwise_affine=True)\n",
       "  )\n",
       "  (lm_head): Linear(in_features=768, out_features=50257, bias=False)\n",
       ")"
      ]
     },
     "execution_count": 3,
     "metadata": {},
     "output_type": "execute_result"
    }
   ],
   "source": [
    "# Initialize model\n",
    "model = GPT2.from_pretrained('gpt2') # Using trained model weights from HuggingFace, loaded into custom model framework.\n",
    "# model = GPT2(GPT2Config) # Using untrained Model weights\n",
    "model.eval()\n",
    "model.to(device)"
   ]
  },
  {
   "cell_type": "markdown",
   "id": "3b38c74a",
   "metadata": {},
   "source": [
    "### Inference"
   ]
  },
  {
   "cell_type": "code",
   "execution_count": 4,
   "id": "0ebde22f",
   "metadata": {},
   "outputs": [
    {
     "data": {
      "text/plain": [
       "[15496, 11, 314, 1101, 257, 3303, 2746, 11]"
      ]
     },
     "execution_count": 4,
     "metadata": {},
     "output_type": "execute_result"
    }
   ],
   "source": [
    "# Embed Tokens\n",
    "enc = tiktoken.get_encoding('gpt2')\n",
    "tokens = enc.encode(\"Hello, I'm a language model,\")\n",
    "tokens\n"
   ]
  },
  {
   "cell_type": "code",
   "execution_count": 5,
   "id": "4a246c95",
   "metadata": {},
   "outputs": [
    {
     "data": {
      "text/plain": [
       "tensor([[15496,    11,   314,  1101,   257,  3303,  2746,    11],\n",
       "        [15496,    11,   314,  1101,   257,  3303,  2746,    11],\n",
       "        [15496,    11,   314,  1101,   257,  3303,  2746,    11],\n",
       "        [15496,    11,   314,  1101,   257,  3303,  2746,    11],\n",
       "        [15496,    11,   314,  1101,   257,  3303,  2746,    11]],\n",
       "       device='mps:0')"
      ]
     },
     "execution_count": 5,
     "metadata": {},
     "output_type": "execute_result"
    }
   ],
   "source": [
    "tokens = torch.tensor(tokens, dtype=torch.long)\n",
    "tokens = tokens.unsqueeze(0).repeat(num_return_sequences, 1) # (5,8)\n",
    "x = tokens.to(device)\n",
    "x\n"
   ]
  },
  {
   "cell_type": "code",
   "execution_count": 6,
   "id": "133f6bf0",
   "metadata": {},
   "outputs": [
    {
     "name": "stdout",
     "output_type": "stream",
     "text": [
      "> Hello, I'm a language model, which means I'm familiar with it, but I'm not fluent in that. Well, with that said,\n",
      "> Hello, I'm a language model, and the syntax, to make use of it, is pretty good. So why do you have that and not\n",
      "> Hello, I'm a language model, I'm doing this work in Python, and then I'm writing code for Haskell.\n",
      "\n",
      "So we can\n",
      "> Hello, I'm a language model, and you're making assumptions about my use of them. I'm not a natural language learner. I'm\n",
      "> Hello, I'm a language model, well, I'm from Java and have to write a programming language for it. I have my own vocabulary because\n"
     ]
    }
   ],
   "source": [
    "# Generate! Right now x is (B, T) where B=5, and T=8\n",
    "# Set the seed to 42\n",
    "torch.manual_seed(42)\n",
    "torch.cuda.manual_seed(42)\n",
    "while x.size(1) < max_length:\n",
    "    with torch.no_grad():\n",
    "        logits, loss = model(x) # (B, T, vocab_size)\n",
    "        # Take the logits at the last position\n",
    "        logits = logits[:, -1, :] # (B, vocab_size)\n",
    "        # Get the probabilities\n",
    "        probs = F.softmax(logits, dim=-1)\n",
    "        # Do top-k sampling of 50.\n",
    "        topk_probs, topk_indices = torch.topk(probs, 50, dim=-1)\n",
    "        # Select a token from the top-k probabilities\n",
    "        ix = torch.multinomial(topk_probs, 1)\n",
    "        # Gather the corresponding indices\n",
    "        xcol = torch.gather(topk_indices, -1, ix)\n",
    "        # Append to the sequence\n",
    "        x = torch.cat((x, xcol), dim=1)\n",
    "\n",
    "for i in range(num_return_sequences):\n",
    "    tokens = x[i, :max_length].tolist()\n",
    "    decoded = enc.decode(tokens)\n",
    "    print(\">\", decoded)"
   ]
  },
  {
   "cell_type": "code",
   "execution_count": null,
   "id": "685d58e9",
   "metadata": {},
   "outputs": [],
   "source": []
  }
 ],
 "metadata": {
  "kernelspec": {
   "display_name": ".my_venv",
   "language": "python",
   "name": "python3"
  },
  "language_info": {
   "codemirror_mode": {
    "name": "ipython",
    "version": 3
   },
   "file_extension": ".py",
   "mimetype": "text/x-python",
   "name": "python",
   "nbconvert_exporter": "python",
   "pygments_lexer": "ipython3",
   "version": "3.12.4"
  }
 },
 "nbformat": 4,
 "nbformat_minor": 5
}
