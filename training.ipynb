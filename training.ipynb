{
 "cells": [
  {
   "cell_type": "markdown",
   "id": "64e57c99",
   "metadata": {},
   "source": [
    "# Training Workflow"
   ]
  },
  {
   "cell_type": "markdown",
   "id": "0fbbcacd",
   "metadata": {},
   "source": [
    "### Import Packages"
   ]
  },
  {
   "cell_type": "code",
   "execution_count": 1,
   "id": "fb214508",
   "metadata": {},
   "outputs": [],
   "source": [
    "from gpt2 import GPT2, GPT2Config, DataLoaderLite\n",
    "import torch\n",
    "from torch.nn import functional as F\n",
    "import time"
   ]
  },
  {
   "cell_type": "markdown",
   "id": "e3483022",
   "metadata": {},
   "source": [
    "### Set Device & Args"
   ]
  },
  {
   "cell_type": "code",
   "execution_count": 2,
   "id": "85e5733b",
   "metadata": {},
   "outputs": [
    {
     "name": "stdout",
     "output_type": "stream",
     "text": [
      "Using Device: mps\n"
     ]
    }
   ],
   "source": [
    "device = 'cpu'\n",
    "if torch.cuda.is_available():\n",
    "    device = 'cuda'\n",
    "elif hasattr(torch.backends, 'mps') and torch.backends.mps.is_available():\n",
    "    device = 'mps'\n",
    "print(f'Using Device: {device}')\n",
    "\n",
    "num_return_sequences = 5\n",
    "max_length = 30"
   ]
  },
  {
   "cell_type": "code",
   "execution_count": 3,
   "id": "3c47d2dd",
   "metadata": {},
   "outputs": [],
   "source": [
    "torch.manual_seed(1337)\n",
    "if torch.cuda.is_available():\n",
    "    torch.cuda.manual_seed(1337)"
   ]
  },
  {
   "cell_type": "markdown",
   "id": "503b104c",
   "metadata": {},
   "source": [
    "### Prepare Dataset"
   ]
  },
  {
   "cell_type": "code",
   "execution_count": 5,
   "id": "278d1209",
   "metadata": {},
   "outputs": [
    {
     "name": "stdout",
     "output_type": "stream",
     "text": [
      "Loaded 338025 tokens\n",
      "1 Epoch = 4225 batches\n"
     ]
    }
   ],
   "source": [
    "B = 4 # Number of batches\n",
    "T = 20 # Max Sequence Length\n",
    "input_text = './data/input.txt'\n",
    "train_loader = DataLoaderLite(B=B, T=T, input_text=input_text)"
   ]
  },
  {
   "cell_type": "markdown",
   "id": "42f9bd40",
   "metadata": {},
   "source": [
    "### Initialize Model"
   ]
  },
  {
   "cell_type": "code",
   "execution_count": 7,
   "id": "2e75a347",
   "metadata": {},
   "outputs": [
    {
     "name": "stdout",
     "output_type": "stream",
     "text": [
      "step: 0, loss: 11.073359489440918, dt: 219.31\n",
      "step: 1, loss: 9.915640830993652, dt: 203.756\n",
      "step: 2, loss: 9.42115306854248, dt: 200.644\n",
      "step: 3, loss: 8.656221389770508, dt: 199.012\n",
      "step: 4, loss: 9.198419570922852, dt: 200.294\n",
      "step: 5, loss: 8.253707885742188, dt: 202.119\n",
      "step: 6, loss: 8.747230529785156, dt: 200.815\n",
      "step: 7, loss: 8.346973419189453, dt: 200.871\n",
      "step: 8, loss: 8.11622428894043, dt: 199.063\n",
      "step: 9, loss: 8.615663528442383, dt: 200.519\n",
      "step: 10, loss: 8.294961929321289, dt: 200.924\n",
      "step: 11, loss: 8.18215560913086, dt: 201.029\n",
      "step: 12, loss: 7.9577226638793945, dt: 200.342\n",
      "step: 13, loss: 8.050445556640625, dt: 207.274\n",
      "step: 14, loss: 7.1966705322265625, dt: 199.133\n",
      "step: 15, loss: 8.26171588897705, dt: 197.353\n",
      "step: 16, loss: 7.490786552429199, dt: 207.187\n",
      "step: 17, loss: 7.020895481109619, dt: 203.03\n",
      "step: 18, loss: 7.020319938659668, dt: 199.649\n",
      "step: 19, loss: 7.466334342956543, dt: 198.571\n",
      "step: 20, loss: 7.3599443435668945, dt: 199.579\n",
      "step: 21, loss: 6.803009986877441, dt: 198.876\n",
      "step: 22, loss: 7.163081169128418, dt: 197.996\n",
      "step: 23, loss: 6.673954010009766, dt: 201.996\n",
      "step: 24, loss: 7.310609340667725, dt: 202.713\n",
      "step: 25, loss: 7.2650465965271, dt: 201.041\n",
      "step: 26, loss: 7.645648002624512, dt: 203.317\n",
      "step: 27, loss: 8.223016738891602, dt: 203.357\n",
      "step: 28, loss: 6.74744176864624, dt: 200.598\n",
      "step: 29, loss: 7.532602787017822, dt: 199.987\n",
      "step: 30, loss: 7.429654598236084, dt: 201.156\n",
      "step: 31, loss: 7.430534362792969, dt: 201.007\n",
      "step: 32, loss: 7.420249938964844, dt: 200.606\n",
      "step: 33, loss: 7.468188285827637, dt: 201.136\n",
      "step: 34, loss: 6.310079097747803, dt: 199.136\n",
      "step: 35, loss: 6.933557033538818, dt: 200.431\n",
      "step: 36, loss: 6.560736179351807, dt: 201.338\n",
      "step: 37, loss: 6.668389797210693, dt: 200.315\n",
      "step: 38, loss: 6.942840576171875, dt: 200.065\n",
      "step: 39, loss: 5.837965965270996, dt: 198.991\n",
      "step: 40, loss: 7.3120269775390625, dt: 198.631\n",
      "step: 41, loss: 7.029547691345215, dt: 200.492\n",
      "step: 42, loss: 7.648213863372803, dt: 200.704\n",
      "step: 43, loss: 7.533628940582275, dt: 200.87\n",
      "step: 44, loss: 6.960793972015381, dt: 200.447\n",
      "step: 45, loss: 6.561612129211426, dt: 199.99\n",
      "step: 46, loss: 7.028240203857422, dt: 200.419\n",
      "step: 47, loss: 6.6750922203063965, dt: 201.233\n",
      "step: 48, loss: 7.052739143371582, dt: 201.332\n",
      "step: 49, loss: 7.102622032165527, dt: 200.319\n"
     ]
    }
   ],
   "source": [
    "# Initialize model\n",
    "model = GPT2(GPT2Config) # Initializing with random weights. Not using HF model.\n",
    "model.eval()\n",
    "model.to(device)\n",
    "\n",
    "epochs = 50\n",
    "optimizer = torch.optim.AdamW(model.parameters(), lr=3e-4)\n",
    "for i in range(0,epochs):\n",
    "    t0 = time.time()\n",
    "    x, y = train_loader.next_batch()\n",
    "    x, y = x.to(device), y.to(device)\n",
    "    optimizer.zero_grad()\n",
    "    logits, loss = model(x, y)\n",
    "    loss.backward()\n",
    "    optimizer.step()\n",
    "    # torch.cuda.synchronize()\n",
    "    t1 = time.time()\n",
    "    dt = round((t1 - t0)*1000, 3) # time difference in ms.\n",
    "    print(f'step: {i}, loss: {loss.item()}, dt: {dt}')"
   ]
  },
  {
   "cell_type": "code",
   "execution_count": null,
   "id": "47687437",
   "metadata": {},
   "outputs": [],
   "source": []
  }
 ],
 "metadata": {
  "kernelspec": {
   "display_name": ".my_venv",
   "language": "python",
   "name": "python3"
  },
  "language_info": {
   "codemirror_mode": {
    "name": "ipython",
    "version": 3
   },
   "file_extension": ".py",
   "mimetype": "text/x-python",
   "name": "python",
   "nbconvert_exporter": "python",
   "pygments_lexer": "ipython3",
   "version": "3.12.4"
  }
 },
 "nbformat": 4,
 "nbformat_minor": 5
}
